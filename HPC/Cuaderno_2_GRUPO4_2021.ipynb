{
  "nbformat": 4,
  "nbformat_minor": 0,
  "metadata": {
    "colab": {
      "name": "Untitled0.ipynb",
      "provenance": [],
      "authorship_tag": "ABX9TyMc1Xs4vWB7v9sId37Jqhk6",
      "include_colab_link": true
    },
    "kernelspec": {
      "name": "python3",
      "display_name": "Python 3"
    },
    "language_info": {
      "name": "python"
    }
  },
  "cells": [
    {
      "cell_type": "markdown",
      "metadata": {
        "id": "view-in-github",
        "colab_type": "text"
      },
      "source": [
        "<a href=\"https://colab.research.google.com/github/MartinPfe/soa-tp2-android/blob/main/HPC/Cuaderno_2_GRUPO4_2021.ipynb\" target=\"_parent\"><img src=\"https://colab.research.google.com/assets/colab-badge.svg\" alt=\"Open In Colab\"/></a>"
      ]
    },
    {
      "cell_type": "markdown",
      "metadata": {
        "id": "PfxkmX_HQ4CE"
      },
      "source": [
        "# Introducción"
      ]
    },
    {
      "cell_type": "markdown",
      "metadata": {
        "id": "46-gjzm4Q1AA"
      },
      "source": [
        "# Armado de ambiente\n"
      ]
    },
    {
      "cell_type": "markdown",
      "metadata": {
        "id": "wXfh5HYsQ3An"
      },
      "source": [
        "# Desarrollo CPU"
      ]
    },
    {
      "cell_type": "markdown",
      "metadata": {
        "id": "Tsjzay4DRCeL"
      },
      "source": [
        "# Desarrollo GPU"
      ]
    },
    {
      "cell_type": "markdown",
      "metadata": {
        "id": "06gFRLiPRFXk"
      },
      "source": [
        "# Metricas\n"
      ]
    },
    {
      "cell_type": "markdown",
      "metadata": {
        "id": "fO_ldggzRI-R"
      },
      "source": [
        "# Conclusiones"
      ]
    },
    {
      "cell_type": "markdown",
      "metadata": {
        "id": "gmZaf953RKbo"
      },
      "source": [
        "#Bibliografia\n"
      ]
    }
  ]
}